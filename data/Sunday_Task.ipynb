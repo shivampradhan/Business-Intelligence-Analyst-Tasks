{
 "cells": [
  {
   "cell_type": "code",
   "execution_count": 1,
   "id": "4eb0c3f6",
   "metadata": {},
   "outputs": [],
   "source": [
    "import sqlite3\n",
    "import pandas as pd\n",
    "import numpy as np\n",
    "import seaborn as sns\n",
    "import matplotlib.pyplot as plt"
   ]
  },
  {
   "cell_type": "markdown",
   "id": "21be6055",
   "metadata": {},
   "source": [
    "# 1- \n",
    "Using Sqlite, create a database named \"test\" and create 3 tables named revenue, spend and installs storing the associated csv files. "
   ]
  },
  {
   "cell_type": "code",
   "execution_count": 2,
   "id": "1a2c98c0",
   "metadata": {},
   "outputs": [],
   "source": [
    "conn=sqlite3.connect(\"test.db\")\n",
    "#conn=sqlite3.connect(\":memory:\")\n",
    "#conn.execute(\"attach ? as 'schemaname'\", (filename,))\n",
    "cur=conn.cursor()#tells db what u want to do"
   ]
  },
  {
   "cell_type": "code",
   "execution_count": 3,
   "id": "cc060a03",
   "metadata": {},
   "outputs": [],
   "source": [
    "installs=pd.read_csv(\"installs.csv\")\n",
    "revenue=pd.read_csv(\"revenue.csv\")\n",
    "spend=pd.read_csv(\"spend.csv\")"
   ]
  },
  {
   "cell_type": "code",
   "execution_count": 4,
   "id": "0cc303a3",
   "metadata": {},
   "outputs": [],
   "source": [
    "\n",
    "installs.to_sql('installs', conn, if_exists='replace', index = False)\n",
    "revenue.to_sql('revenue', conn, if_exists='replace', index = False)\n",
    "spend.to_sql('spend', conn, if_exists='replace', index = False)\n"
   ]
  },
  {
   "cell_type": "code",
   "execution_count": 5,
   "id": "5da9930a",
   "metadata": {},
   "outputs": [
    {
     "name": "stdout",
     "output_type": "stream",
     "text": [
      "('RU', 23, '1ec78a0d-c9c1-4f22-acd5-494d9a06209d', 'fruit_battle', 2021, 12, 2)\n",
      "('RU', 23, 'e58579ff-5c01-469b-b701-0d96ca5eaca2', 'fruit_battle', 2021, 12, 2)\n",
      "('RU', 23, 'a2892289-4c37-438a-aff5-aabbee1bad9e', 'fruit_battle', 2021, 12, 2)\n",
      "************************************************\n",
      "('BR', 'fruit_battle', 2021, 12, 23, '6ddf67b9-91e8-4379-9ef9-614f6cf6e712', -0.00503)\n",
      "('RU', 'fruit_battle', 2021, 12, 23, 'cd74651f-8c3c-449f-835a-13ba053e0ae4', -0.00013000000000000002)\n",
      "('BR', 'fruit_battle', 2021, 12, 23, 'b3d99a55-5a19-40dc-a17f-a0a1f79fe35a', -0.00049)\n",
      "************************************************\n",
      "(9, 'fruit_battle', 2021, 12, 15, 4.84100002329797)\n",
      "(4, 'fruit_battle', 2021, 12, 15, 36.626018833369)\n",
      "(10, 'fruit_battle', 2021, 12, 11, 30.0139523213729)\n"
     ]
    },
    {
     "data": {
      "text/plain": [
       "[None, None, None]"
      ]
     },
     "execution_count": 5,
     "metadata": {},
     "output_type": "execute_result"
    }
   ],
   "source": [
    "[print(row) for row in cur.execute(\"\"\"SELECT * FROM installs limit 3\"\"\")]\n",
    "print(\"************************************************\")\n",
    "[print(row) for row in cur.execute(\"\"\"SELECT * FROM revenue limit 3\"\"\")]\n",
    "print(\"************************************************\")     \n",
    "[print(row) for row in cur.execute(\"\"\"SELECT * FROM spend limit 3\"\"\")]"
   ]
  },
  {
   "cell_type": "code",
   "execution_count": 6,
   "id": "bfce57d2",
   "metadata": {},
   "outputs": [],
   "source": [
    "#conn.close()"
   ]
  },
  {
   "cell_type": "markdown",
   "id": "daee8e98",
   "metadata": {},
   "source": [
    "# 2- \n",
    "Combine datasets using SQL queries to generate a summary table which contains columns for\n",
    "\n",
    "### Ad Spend, Installs, CPI, ARPI_D1, ARPI_D14, ROAS_D14 \n",
    "\n",
    "for each client(app), country and install date between 01-12-2021 and 15-12-2021..\n",
    "\n",
    "* ARPI_D1: Average revenue value a user has made within the first 1 day after the install (day revenue - day install <= 1)\n",
    "           (rev day+ rev day+1)/user on day\n",
    "* ARPI_D14: Average revenue value a user has made within the first 14 day after the install (day revenue - day install <= 14) \n",
    "            (rev day+ ....rev day+14)/user on day\n",
    "* ROAS_D14: ROAS after 14 days from the install.  Return On Advertising Spend, (ROAS), \n",
    "            revenue+14/spend\n",
    "* CPI: Cost per install"
   ]
  },
  {
   "cell_type": "code",
   "execution_count": 7,
   "id": "58c7bbec",
   "metadata": {},
   "outputs": [],
   "source": [
    "installs[\"install_date\"]=pd.to_datetime(installs[['year', 'month', 'day']])\n",
    "revenue[\"revenue_date\"]=pd.to_datetime(revenue[['year', 'month', 'day']])\n",
    "spend[\"spend_date\"]=pd.to_datetime(spend[['year', 'month', 'day']])\n"
   ]
  },
  {
   "cell_type": "code",
   "execution_count": 8,
   "id": "ee218889",
   "metadata": {},
   "outputs": [
    {
     "data": {
      "text/html": [
       "<div>\n",
       "<style scoped>\n",
       "    .dataframe tbody tr th:only-of-type {\n",
       "        vertical-align: middle;\n",
       "    }\n",
       "\n",
       "    .dataframe tbody tr th {\n",
       "        vertical-align: top;\n",
       "    }\n",
       "\n",
       "    .dataframe thead th {\n",
       "        text-align: right;\n",
       "    }\n",
       "</style>\n",
       "<table border=\"1\" class=\"dataframe\">\n",
       "  <thead>\n",
       "    <tr style=\"text-align: right;\">\n",
       "      <th></th>\n",
       "      <th></th>\n",
       "      <th>Spend</th>\n",
       "      <th>Installs</th>\n",
       "      <th>CPI</th>\n",
       "      <th>ARPI_D1</th>\n",
       "      <th>ARPI_D14</th>\n",
       "      <th>ROAS_D14</th>\n",
       "    </tr>\n",
       "  </thead>\n",
       "  <tbody>\n",
       "    <tr>\n",
       "      <th rowspan=\"17\" valign=\"top\">fruit_battle</th>\n",
       "      <th>2021-11-30</th>\n",
       "      <td>1220.207045</td>\n",
       "      <td>5295.0</td>\n",
       "      <td>0.230445</td>\n",
       "      <td>0.114636</td>\n",
       "      <td>1.038338</td>\n",
       "      <td>7.555155</td>\n",
       "    </tr>\n",
       "    <tr>\n",
       "      <th>2021-12-01</th>\n",
       "      <td>1112.768256</td>\n",
       "      <td>4903.0</td>\n",
       "      <td>0.226957</td>\n",
       "      <td>0.261065</td>\n",
       "      <td>1.291454</td>\n",
       "      <td>3.634113</td>\n",
       "    </tr>\n",
       "    <tr>\n",
       "      <th>2021-12-02</th>\n",
       "      <td>782.701821</td>\n",
       "      <td>4293.0</td>\n",
       "      <td>0.182320</td>\n",
       "      <td>0.297228</td>\n",
       "      <td>1.685535</td>\n",
       "      <td>2.582936</td>\n",
       "    </tr>\n",
       "    <tr>\n",
       "      <th>2021-12-03</th>\n",
       "      <td>781.987314</td>\n",
       "      <td>4794.0</td>\n",
       "      <td>0.163118</td>\n",
       "      <td>0.251773</td>\n",
       "      <td>1.677096</td>\n",
       "      <td>1.935713</td>\n",
       "    </tr>\n",
       "    <tr>\n",
       "      <th>2021-12-04</th>\n",
       "      <td>2043.075308</td>\n",
       "      <td>9628.0</td>\n",
       "      <td>0.212201</td>\n",
       "      <td>0.184981</td>\n",
       "      <td>0.907873</td>\n",
       "      <td>0.955630</td>\n",
       "    </tr>\n",
       "    <tr>\n",
       "      <th>2021-12-05</th>\n",
       "      <td>1786.549364</td>\n",
       "      <td>9896.0</td>\n",
       "      <td>0.180532</td>\n",
       "      <td>0.227162</td>\n",
       "      <td>0.953820</td>\n",
       "      <td>0.525079</td>\n",
       "    </tr>\n",
       "    <tr>\n",
       "      <th>2021-12-06</th>\n",
       "      <td>1061.194628</td>\n",
       "      <td>6638.0</td>\n",
       "      <td>0.159867</td>\n",
       "      <td>0.275987</td>\n",
       "      <td>1.502862</td>\n",
       "      <td>0.353875</td>\n",
       "    </tr>\n",
       "    <tr>\n",
       "      <th>2021-12-07</th>\n",
       "      <td>1413.917789</td>\n",
       "      <td>7896.0</td>\n",
       "      <td>0.179068</td>\n",
       "      <td>0.202001</td>\n",
       "      <td>1.322062</td>\n",
       "      <td>0.174378</td>\n",
       "    </tr>\n",
       "    <tr>\n",
       "      <th>2021-12-08</th>\n",
       "      <td>1166.854922</td>\n",
       "      <td>6183.0</td>\n",
       "      <td>0.188720</td>\n",
       "      <td>0.280932</td>\n",
       "      <td>1.650332</td>\n",
       "      <td>0.058339</td>\n",
       "    </tr>\n",
       "    <tr>\n",
       "      <th>2021-12-09</th>\n",
       "      <td>1098.963891</td>\n",
       "      <td>4799.0</td>\n",
       "      <td>0.228999</td>\n",
       "      <td>0.355699</td>\n",
       "      <td>2.059179</td>\n",
       "      <td>-0.031549</td>\n",
       "    </tr>\n",
       "    <tr>\n",
       "      <th>2021-12-10</th>\n",
       "      <td>606.997091</td>\n",
       "      <td>3538.0</td>\n",
       "      <td>0.171565</td>\n",
       "      <td>0.425382</td>\n",
       "      <td>2.701526</td>\n",
       "      <td>-0.073473</td>\n",
       "    </tr>\n",
       "    <tr>\n",
       "      <th>2021-12-11</th>\n",
       "      <td>519.890502</td>\n",
       "      <td>3650.0</td>\n",
       "      <td>0.142436</td>\n",
       "      <td>0.383288</td>\n",
       "      <td>2.501370</td>\n",
       "      <td>-0.106808</td>\n",
       "    </tr>\n",
       "    <tr>\n",
       "      <th>2021-12-12</th>\n",
       "      <td>387.554716</td>\n",
       "      <td>2934.0</td>\n",
       "      <td>0.132091</td>\n",
       "      <td>0.420927</td>\n",
       "      <td>2.766871</td>\n",
       "      <td>-0.130612</td>\n",
       "    </tr>\n",
       "    <tr>\n",
       "      <th>2021-12-13</th>\n",
       "      <td>375.383147</td>\n",
       "      <td>2206.0</td>\n",
       "      <td>0.170165</td>\n",
       "      <td>0.452856</td>\n",
       "      <td>3.246600</td>\n",
       "      <td>-0.152442</td>\n",
       "    </tr>\n",
       "    <tr>\n",
       "      <th>2021-12-14</th>\n",
       "      <td>227.540500</td>\n",
       "      <td>1685.0</td>\n",
       "      <td>0.135039</td>\n",
       "      <td>0.494955</td>\n",
       "      <td>3.846884</td>\n",
       "      <td>-0.165087</td>\n",
       "    </tr>\n",
       "    <tr>\n",
       "      <th>2021-12-15</th>\n",
       "      <td>261.017665</td>\n",
       "      <td>1907.0</td>\n",
       "      <td>0.136873</td>\n",
       "      <td>0.379654</td>\n",
       "      <td>2.988988</td>\n",
       "      <td>-0.179242</td>\n",
       "    </tr>\n",
       "    <tr>\n",
       "      <th>2021-12-16</th>\n",
       "      <td>263.529137</td>\n",
       "      <td>1507.0</td>\n",
       "      <td>0.174870</td>\n",
       "      <td>0.418713</td>\n",
       "      <td>3.210352</td>\n",
       "      <td>-0.193339</td>\n",
       "    </tr>\n",
       "  </tbody>\n",
       "</table>\n",
       "</div>"
      ],
      "text/plain": [
       "                               Spend  Installs       CPI   ARPI_D1  ARPI_D14  \\\n",
       "fruit_battle 2021-11-30  1220.207045    5295.0  0.230445  0.114636  1.038338   \n",
       "             2021-12-01  1112.768256    4903.0  0.226957  0.261065  1.291454   \n",
       "             2021-12-02   782.701821    4293.0  0.182320  0.297228  1.685535   \n",
       "             2021-12-03   781.987314    4794.0  0.163118  0.251773  1.677096   \n",
       "             2021-12-04  2043.075308    9628.0  0.212201  0.184981  0.907873   \n",
       "             2021-12-05  1786.549364    9896.0  0.180532  0.227162  0.953820   \n",
       "             2021-12-06  1061.194628    6638.0  0.159867  0.275987  1.502862   \n",
       "             2021-12-07  1413.917789    7896.0  0.179068  0.202001  1.322062   \n",
       "             2021-12-08  1166.854922    6183.0  0.188720  0.280932  1.650332   \n",
       "             2021-12-09  1098.963891    4799.0  0.228999  0.355699  2.059179   \n",
       "             2021-12-10   606.997091    3538.0  0.171565  0.425382  2.701526   \n",
       "             2021-12-11   519.890502    3650.0  0.142436  0.383288  2.501370   \n",
       "             2021-12-12   387.554716    2934.0  0.132091  0.420927  2.766871   \n",
       "             2021-12-13   375.383147    2206.0  0.170165  0.452856  3.246600   \n",
       "             2021-12-14   227.540500    1685.0  0.135039  0.494955  3.846884   \n",
       "             2021-12-15   261.017665    1907.0  0.136873  0.379654  2.988988   \n",
       "             2021-12-16   263.529137    1507.0  0.174870  0.418713  3.210352   \n",
       "\n",
       "                         ROAS_D14  \n",
       "fruit_battle 2021-11-30  7.555155  \n",
       "             2021-12-01  3.634113  \n",
       "             2021-12-02  2.582936  \n",
       "             2021-12-03  1.935713  \n",
       "             2021-12-04  0.955630  \n",
       "             2021-12-05  0.525079  \n",
       "             2021-12-06  0.353875  \n",
       "             2021-12-07  0.174378  \n",
       "             2021-12-08  0.058339  \n",
       "             2021-12-09 -0.031549  \n",
       "             2021-12-10 -0.073473  \n",
       "             2021-12-11 -0.106808  \n",
       "             2021-12-12 -0.130612  \n",
       "             2021-12-13 -0.152442  \n",
       "             2021-12-14 -0.165087  \n",
       "             2021-12-15 -0.179242  \n",
       "             2021-12-16 -0.193339  "
      ]
     },
     "execution_count": 8,
     "metadata": {},
     "output_type": "execute_result"
    }
   ],
   "source": [
    "install_date=installs[[\"install_date\",\"user_install_id\",\"country_id\",\"client\"]].groupby([\"client\",\"install_date\"]).count()#head()\n",
    "spend_date=spend[[\"spend_date\",\"spend\",\"country_id\",\"client\"]].groupby([\"client\",\"spend_date\"]).sum()#head(1)\n",
    "country_code=dict(zip(installs.country,installs.country_id))\n",
    "revenue[\"country_id\"]=revenue[\"country\"].map(country_code)\n",
    "revenue_date=revenue[[\"revenue_date\",\"revenue\",\"country_id\",\"client\"]].groupby([\"client\",\"revenue_date\"]).sum()#head(1)\n",
    "df=pd.concat([install_date, spend_date,revenue_date], axis=1)\n",
    "df[\"revenue_cum\"]=df.revenue.cumsum(axis = 0)\n",
    "df[\"spend_cum\"]=df.spend.cumsum(axis =0 , skipna=True)\n",
    "\n",
    "df[\"ROAS_D14\"]=(df[\"revenue_cum\"].shift(periods=-13, fill_value=0)-df[\"spend_cum\"])/df[\"spend_cum\"]\n",
    "df[\"cost_per_install\"]=df[\"spend\"]/df[\"user_install_id\"]\n",
    "\n",
    "df[\"ARPI_D1\"]=df.revenue.rolling(window=2, min_periods=1, center=True).sum().astype(int)/df.user_install_id\n",
    "df[\"ARPI_D14\"]=df.revenue.rolling(window=14, min_periods=1, center=True).sum().astype(int)/df.user_install_id\n",
    "\n",
    "df=df.drop([\"country_id\",\"revenue_cum\",\"spend_cum\"],axis=1)\n",
    "\n",
    "dff=df[[\"spend\", \"user_install_id\", \"cost_per_install\", \"ARPI_D1\", \"ARPI_D14\", \"ROAS_D14\"]]\n",
    "dff.columns=[\"Spend\", \"Installs\", \"CPI\", \"ARPI_D1\", \"ARPI_D14\", \"ROAS_D14\"]\n",
    "#df[\"spend\"]\n",
    "dff=dff[0:17]\n",
    "dff.to_sql('summary', conn, if_exists='replace', index = False)\n",
    "dff"
   ]
  },
  {
   "cell_type": "code",
   "execution_count": 9,
   "id": "e897885c",
   "metadata": {},
   "outputs": [
    {
     "name": "stdout",
     "output_type": "stream",
     "text": [
      "(1220.2070447588344, 5295.0, 0.23044514537466182, 0.11463644948064211, 1.0383380547686496, 7.55515538925817)\n",
      "(1112.76825645368, 4903.0, 0.22695660951533345, 0.26106465429328984, 1.2914542117071182, 3.6341134007855804)\n",
      "(782.7018206811041, 4293.0, 0.18232048000957468, 0.2972280456557186, 1.6855345911949686, 2.582935716205456)\n"
     ]
    },
    {
     "data": {
      "text/plain": [
       "[None, None, None]"
      ]
     },
     "execution_count": 9,
     "metadata": {},
     "output_type": "execute_result"
    }
   ],
   "source": [
    "[print(row) for row in cur.execute(\"\"\"SELECT * FROM summary limit 3\"\"\")]"
   ]
  },
  {
   "cell_type": "code",
   "execution_count": 10,
   "id": "6f40e9d0",
   "metadata": {},
   "outputs": [],
   "source": [
    "conn.close()"
   ]
  },
  {
   "cell_type": "markdown",
   "id": "2494d35e",
   "metadata": {},
   "source": [
    "# 3- \n",
    "Do an analysis with few bullet points for the current state and the developments observed in Fruit Battle on the top three countries, which have the highest average ARPI_D14 between 01-12-2021 and 15-12-2021, using the metrics you have derived in the second question. Please also define recommendations for the next steps in few bullet points for those countries you have picked. You may use visualisations to support your reasoning."
   ]
  },
  {
   "cell_type": "markdown",
   "id": "463f27a5",
   "metadata": {},
   "source": [
    " (rev day+ ....rev day+14)/user on day"
   ]
  },
  {
   "cell_type": "code",
   "execution_count": 11,
   "id": "a64fa734",
   "metadata": {},
   "outputs": [
    {
     "name": "stderr",
     "output_type": "stream",
     "text": [
      "C:\\Program Files\\Python36\\lib\\site-packages\\ipykernel_launcher.py:21: SettingWithCopyWarning: \n",
      "A value is trying to be set on a copy of a slice from a DataFrame.\n",
      "Try using .loc[row_indexer,col_indexer] = value instead\n",
      "\n",
      "See the caveats in the documentation: https://pandas.pydata.org/pandas-docs/stable/user_guide/indexing.html#returning-a-view-versus-a-copy\n"
     ]
    },
    {
     "data": {
      "text/html": [
       "<div>\n",
       "<style scoped>\n",
       "    .dataframe tbody tr th:only-of-type {\n",
       "        vertical-align: middle;\n",
       "    }\n",
       "\n",
       "    .dataframe tbody tr th {\n",
       "        vertical-align: top;\n",
       "    }\n",
       "\n",
       "    .dataframe thead th {\n",
       "        text-align: right;\n",
       "    }\n",
       "</style>\n",
       "<table border=\"1\" class=\"dataframe\">\n",
       "  <thead>\n",
       "    <tr style=\"text-align: right;\">\n",
       "      <th></th>\n",
       "      <th>user_install_id</th>\n",
       "      <th>spend</th>\n",
       "      <th>revenue</th>\n",
       "      <th>ARP_D14</th>\n",
       "      <th>country_name</th>\n",
       "    </tr>\n",
       "  </thead>\n",
       "  <tbody>\n",
       "    <tr>\n",
       "      <th>0</th>\n",
       "      <td>19902.0</td>\n",
       "      <td>9474.833408</td>\n",
       "      <td>8016.395981</td>\n",
       "      <td>5.163049</td>\n",
       "      <td>US</td>\n",
       "    </tr>\n",
       "    <tr>\n",
       "      <th>1</th>\n",
       "      <td>3528.0</td>\n",
       "      <td>946.424099</td>\n",
       "      <td>710.760019</td>\n",
       "      <td>2.491497</td>\n",
       "      <td>GB</td>\n",
       "    </tr>\n",
       "    <tr>\n",
       "      <th>2</th>\n",
       "      <td>6661.0</td>\n",
       "      <td>1578.132840</td>\n",
       "      <td>996.126781</td>\n",
       "      <td>1.885753</td>\n",
       "      <td>DE</td>\n",
       "    </tr>\n",
       "    <tr>\n",
       "      <th>3</th>\n",
       "      <td>5642.0</td>\n",
       "      <td>805.693013</td>\n",
       "      <td>599.868540</td>\n",
       "      <td>1.336406</td>\n",
       "      <td>FR</td>\n",
       "    </tr>\n",
       "    <tr>\n",
       "      <th>4</th>\n",
       "      <td>22348.0</td>\n",
       "      <td>1128.674001</td>\n",
       "      <td>909.674534</td>\n",
       "      <td>0.526087</td>\n",
       "      <td>RU</td>\n",
       "    </tr>\n",
       "    <tr>\n",
       "      <th>5</th>\n",
       "      <td>23671.0</td>\n",
       "      <td>1176.375737</td>\n",
       "      <td>957.502655</td>\n",
       "      <td>0.520046</td>\n",
       "      <td>BR</td>\n",
       "    </tr>\n",
       "  </tbody>\n",
       "</table>\n",
       "</div>"
      ],
      "text/plain": [
       "   user_install_id        spend      revenue   ARP_D14 country_name\n",
       "0          19902.0  9474.833408  8016.395981  5.163049           US\n",
       "1           3528.0   946.424099   710.760019  2.491497           GB\n",
       "2           6661.0  1578.132840   996.126781  1.885753           DE\n",
       "3           5642.0   805.693013   599.868540  1.336406           FR\n",
       "4          22348.0  1128.674001   909.674534  0.526087           RU\n",
       "5          23671.0  1176.375737   957.502655  0.520046           BR"
      ]
     },
     "execution_count": 11,
     "metadata": {},
     "output_type": "execute_result"
    }
   ],
   "source": [
    "install_date=installs[[\"user_install_id\",\"country_id\",\"install_date\"]].groupby([\"country_id\",\"install_date\"]).count()#head()\n",
    "spend_date=spend[[\"spend\",\"country_id\",\"spend_date\"]].groupby([\"country_id\",\"spend_date\"]).sum()#head(1)\n",
    "country_code=dict(zip(installs.country,installs.country_id))\n",
    "revenue[\"country_id\"]=revenue[\"country\"].map(country_code)\n",
    "revenue_date=revenue[[\"revenue\",\"country_id\",\"revenue_date\"]].groupby([\"country_id\",\"revenue_date\"]).sum()#head(1)\n",
    "df_country=pd.concat([install_date, spend_date,revenue_date], axis=1)\n",
    "\n",
    "df_country_full=df_country.reset_index()\n",
    "country=df_country_full.level_0.unique()\n",
    "group_con=df_country_full.groupby(\"level_0\").sum()\n",
    "\n",
    "\n",
    "AR_D14=[]\n",
    "\n",
    "for i in country :\n",
    "\n",
    "    y=df_country_full[df_country_full.level_0==i]\n",
    "    rev14=y.revenue.rolling(window=14, min_periods=1, center=True).sum().astype(int)#.sum()\n",
    "    if i==29:\n",
    "        rev_us=y\n",
    "        rev_us[\"AR_D14\"]=rev14/rev_us[\"user_install_id\"]\n",
    "    rev=rev14.sum()\n",
    "    users=y.user_install_id.sum()\n",
    "    AR_D14.append(rev/users)\n",
    "    \n",
    "group_con[\"ARP_D14\"]=AR_D14\n",
    "group_con_sort=group_con.sort_values(\"ARP_D14\", ascending=False).reset_index()\n",
    "country_name = dict([(value, key) for key, value in country_code.items()])\n",
    "group_con_sort[\"country_name\"]=group_con_sort[\"level_0\"].map(country_name)\n",
    "group_con_sort.drop(\"level_0\",axis=1)"
   ]
  },
  {
   "cell_type": "code",
   "execution_count": 12,
   "id": "ede89af2",
   "metadata": {},
   "outputs": [
    {
     "data": {
      "text/plain": [
       "<AxesSubplot:xlabel='country_name', ylabel='ARP_D14'>"
      ]
     },
     "execution_count": 12,
     "metadata": {},
     "output_type": "execute_result"
    },
    {
     "data": {
      "image/png": "[encoded data removed]",
      "text/plain": [
       "<Figure size 432x288 with 1 Axes>"
      ]
     },
     "metadata": {
      "needs_background": "light"
     },
     "output_type": "display_data"
    }
   ],
   "source": [
    "#group_con_sort[[\"ARP_D14\",\"country_id\"]].plot(kind=\"bar\")\n",
    "sns.barplot(x='country_name', y='ARP_D14',data=group_con_sort )"
   ]
  },
  {
   "cell_type": "markdown",
   "id": "091eed38",
   "metadata": {},
   "source": [
    "### US,GB,DE have the most ARPI_D14 between 01-12-2021 and 15-12-2021"
   ]
  },
  {
   "cell_type": "markdown",
   "id": "3cca4f3d",
   "metadata": {},
   "source": [
    "# 4- \n",
    "The LTV of users are accounted by the revenue they generate over their lifetime afther they have installed. The data you are given has the revenue events for each user up until the first 14 days after each user has installed the app. However, users continue to generate revenue until their lifetime is reached. In the dataset, the revenue events from the 14th day until the lifetime after the install for each user are removed on purpose. Form a regression using ARPI values to estimate the average lifetime value (LTV) for US. In this step, please document how you approach the task. \n",
    "\n",
    "Hint: Assume the lifetime of the user is reached at 28 days. Please use the aggregated ARPI values on country level during the estimation process. You can estimate the LTV for every cohort day (install date) or come up with an overall estimate for the UA activity between 01-12-2021 and 15-12-2021."
   ]
  },
  {
   "cell_type": "code",
   "execution_count": 13,
   "id": "9c39ddf2",
   "metadata": {},
   "outputs": [],
   "source": [
    "from neuralprophet import NeuralProphet"
   ]
  },
  {
   "cell_type": "code",
   "execution_count": 14,
   "id": "e4773d62",
   "metadata": {},
   "outputs": [],
   "source": [
    "rev_us\n",
    "# prepare expected column names\n",
    "rev_us.columns = ['Country_code', 'ds','user_install_id','spend','revenue','y']"
   ]
  },
  {
   "cell_type": "code",
   "execution_count": 15,
   "id": "992c681b",
   "metadata": {},
   "outputs": [],
   "source": [
    "rev_us_in=rev_us[['ds','y']]"
   ]
  },
  {
   "cell_type": "code",
   "execution_count": 16,
   "id": "e8c21c13",
   "metadata": {
    "scrolled": true
   },
   "outputs": [
    {
     "name": "stderr",
     "output_type": "stream",
     "text": [
      "INFO - (NP.df_utils._infer_frequency) - Major frequency D corresponds to 96.774% of the data.\n",
      "INFO - (NP.df_utils._infer_frequency) - Dataframe freq automatically defined as D\n",
      "INFO - (NP.forecaster.__handle_missing_data) - dropped 14 NAN row in 'y'\n",
      "INFO - (NP.config.init_data_params) - Setting normalization to global as only one dataframe provided for training.\n",
      "INFO - (NP.utils.set_auto_seasonalities) - Disabling yearly seasonality. Run NeuralProphet with yearly_seasonality=True to override this.\n",
      "INFO - (NP.utils.set_auto_seasonalities) - Disabling daily seasonality. Run NeuralProphet with daily_seasonality=True to override this.\n",
      "INFO - (NP.config.set_auto_batch_epoch) - Auto-set batch_size to 16\n",
      "INFO - (NP.config.set_auto_batch_epoch) - Auto-set epochs to 1000\n"
     ]
    },
    {
     "data": {
      "application/vnd.jupyter.widget-view+json": {
       "model_id": "8c53f6665f2e4e3aa939b8266b5deb57",
       "version_major": 2,
       "version_minor": 0
      },
      "text/plain": [
       "  0%|          | 0/101 [00:00<?, ?it/s]"
      ]
     },
     "metadata": {},
     "output_type": "display_data"
    },
    {
     "name": "stderr",
     "output_type": "stream",
     "text": [
      "INFO - (NP.utils_torch.lr_range_test) - lr-range-test results: steep: 3.72E-01, min: 3.63E+00\n"
     ]
    },
    {
     "data": {
      "application/vnd.jupyter.widget-view+json": {
       "model_id": "c36d41e49af74d83a7f259b730d5f4e2",
       "version_major": 2,
       "version_minor": 0
      },
      "text/plain": [
       "  0%|          | 0/101 [00:00<?, ?it/s]"
      ]
     },
     "metadata": {},
     "output_type": "display_data"
    },
    {
     "name": "stderr",
     "output_type": "stream",
     "text": [
      "INFO - (NP.utils_torch.lr_range_test) - lr-range-test results: steep: 2.88E+01, min: 2.40E+00\n",
      "INFO - (NP.forecaster._init_train_loader) - lr-range-test selected learning rate: 1.02E+00\n",
      "Epoch[1000/1000]: 100%|█████| 1000/1000 [00:17<00:00, 56.59it/s, SmoothL1Loss=0.00232, MAE=0.56, RMSE=0.659, RegLoss=0]\n",
      "INFO - (NP.df_utils._infer_frequency) - Major frequency D corresponds to 96.774% of the data.\n",
      "INFO - (NP.df_utils._infer_frequency) - Defined frequency is equal to major frequency - D\n",
      "INFO - (NP.df_utils._infer_frequency) - Major frequency D corresponds to 96.774% of the data.\n",
      "INFO - (NP.df_utils._infer_frequency) - Defined frequency is equal to major frequency - D\n"
     ]
    },
    {
     "data": {
      "text/html": [
       "<div>\n",
       "<style scoped>\n",
       "    .dataframe tbody tr th:only-of-type {\n",
       "        vertical-align: middle;\n",
       "    }\n",
       "\n",
       "    .dataframe tbody tr th {\n",
       "        vertical-align: top;\n",
       "    }\n",
       "\n",
       "    .dataframe thead th {\n",
       "        text-align: right;\n",
       "    }\n",
       "</style>\n",
       "<table border=\"1\" class=\"dataframe\">\n",
       "  <thead>\n",
       "    <tr style=\"text-align: right;\">\n",
       "      <th></th>\n",
       "      <th>ds</th>\n",
       "      <th>y</th>\n",
       "      <th>yhat1</th>\n",
       "      <th>residual1</th>\n",
       "      <th>trend</th>\n",
       "      <th>season_weekly</th>\n",
       "    </tr>\n",
       "  </thead>\n",
       "  <tbody>\n",
       "    <tr>\n",
       "      <th>0</th>\n",
       "      <td>2021-11-30</td>\n",
       "      <td>2.131497</td>\n",
       "      <td>1.909986</td>\n",
       "      <td>-0.221511</td>\n",
       "      <td>2.083503</td>\n",
       "      <td>-0.173518</td>\n",
       "    </tr>\n",
       "    <tr>\n",
       "      <th>1</th>\n",
       "      <td>2021-12-01</td>\n",
       "      <td>2.759777</td>\n",
       "      <td>2.689477</td>\n",
       "      <td>-0.070299</td>\n",
       "      <td>3.263174</td>\n",
       "      <td>-0.573697</td>\n",
       "    </tr>\n",
       "    <tr>\n",
       "      <th>2</th>\n",
       "      <td>2021-12-02</td>\n",
       "      <td>4.611789</td>\n",
       "      <td>4.440275</td>\n",
       "      <td>-0.171513</td>\n",
       "      <td>4.097439</td>\n",
       "      <td>0.342836</td>\n",
       "    </tr>\n",
       "    <tr>\n",
       "      <th>3</th>\n",
       "      <td>2021-12-03</td>\n",
       "      <td>6.199271</td>\n",
       "      <td>5.439603</td>\n",
       "      <td>-0.759668</td>\n",
       "      <td>4.223513</td>\n",
       "      <td>1.216091</td>\n",
       "    </tr>\n",
       "    <tr>\n",
       "      <th>4</th>\n",
       "      <td>2021-12-04</td>\n",
       "      <td>2.213465</td>\n",
       "      <td>3.254698</td>\n",
       "      <td>1.041232</td>\n",
       "      <td>3.564525</td>\n",
       "      <td>-0.309827</td>\n",
       "    </tr>\n",
       "    <tr>\n",
       "      <th>5</th>\n",
       "      <td>2021-12-05</td>\n",
       "      <td>2.797328</td>\n",
       "      <td>4.042397</td>\n",
       "      <td>1.245069</td>\n",
       "      <td>4.325305</td>\n",
       "      <td>-0.282908</td>\n",
       "    </tr>\n",
       "    <tr>\n",
       "      <th>6</th>\n",
       "      <td>2021-12-06</td>\n",
       "      <td>5.141374</td>\n",
       "      <td>3.945707</td>\n",
       "      <td>-1.195666</td>\n",
       "      <td>4.164684</td>\n",
       "      <td>-0.218977</td>\n",
       "    </tr>\n",
       "    <tr>\n",
       "      <th>7</th>\n",
       "      <td>2021-12-07</td>\n",
       "      <td>3.607124</td>\n",
       "      <td>3.845386</td>\n",
       "      <td>0.238262</td>\n",
       "      <td>4.018904</td>\n",
       "      <td>-0.173518</td>\n",
       "    </tr>\n",
       "    <tr>\n",
       "      <th>8</th>\n",
       "      <td>2021-12-08</td>\n",
       "      <td>4.187894</td>\n",
       "      <td>3.693205</td>\n",
       "      <td>-0.494689</td>\n",
       "      <td>4.266902</td>\n",
       "      <td>-0.573697</td>\n",
       "    </tr>\n",
       "    <tr>\n",
       "      <th>9</th>\n",
       "      <td>2021-12-09</td>\n",
       "      <td>4.517845</td>\n",
       "      <td>5.055935</td>\n",
       "      <td>0.538090</td>\n",
       "      <td>4.713099</td>\n",
       "      <td>0.342836</td>\n",
       "    </tr>\n",
       "    <tr>\n",
       "      <th>10</th>\n",
       "      <td>2021-12-10</td>\n",
       "      <td>6.776815</td>\n",
       "      <td>7.110286</td>\n",
       "      <td>0.333471</td>\n",
       "      <td>5.894196</td>\n",
       "      <td>1.216091</td>\n",
       "    </tr>\n",
       "    <tr>\n",
       "      <th>11</th>\n",
       "      <td>2021-12-11</td>\n",
       "      <td>7.445129</td>\n",
       "      <td>6.857387</td>\n",
       "      <td>-0.587743</td>\n",
       "      <td>7.167213</td>\n",
       "      <td>-0.309827</td>\n",
       "    </tr>\n",
       "    <tr>\n",
       "      <th>12</th>\n",
       "      <td>2021-12-12</td>\n",
       "      <td>8.615873</td>\n",
       "      <td>7.886275</td>\n",
       "      <td>-0.729598</td>\n",
       "      <td>8.169183</td>\n",
       "      <td>-0.282908</td>\n",
       "    </tr>\n",
       "    <tr>\n",
       "      <th>13</th>\n",
       "      <td>2021-12-13</td>\n",
       "      <td>7.074236</td>\n",
       "      <td>8.147525</td>\n",
       "      <td>1.073289</td>\n",
       "      <td>8.366502</td>\n",
       "      <td>-0.218977</td>\n",
       "    </tr>\n",
       "    <tr>\n",
       "      <th>14</th>\n",
       "      <td>2021-12-14</td>\n",
       "      <td>9.362683</td>\n",
       "      <td>9.104945</td>\n",
       "      <td>-0.257738</td>\n",
       "      <td>9.278463</td>\n",
       "      <td>-0.173518</td>\n",
       "    </tr>\n",
       "    <tr>\n",
       "      <th>15</th>\n",
       "      <td>2021-12-15</td>\n",
       "      <td>9.594660</td>\n",
       "      <td>9.688190</td>\n",
       "      <td>0.093530</td>\n",
       "      <td>10.261887</td>\n",
       "      <td>-0.573697</td>\n",
       "    </tr>\n",
       "    <tr>\n",
       "      <th>16</th>\n",
       "      <td>2021-12-16</td>\n",
       "      <td>12.049645</td>\n",
       "      <td>11.588148</td>\n",
       "      <td>-0.461497</td>\n",
       "      <td>11.245312</td>\n",
       "      <td>0.342836</td>\n",
       "    </tr>\n",
       "    <tr>\n",
       "      <th>17</th>\n",
       "      <td>2021-12-17</td>\n",
       "      <td>NaN</td>\n",
       "      <td>13.444827</td>\n",
       "      <td>NaN</td>\n",
       "      <td>12.228737</td>\n",
       "      <td>1.216091</td>\n",
       "    </tr>\n",
       "    <tr>\n",
       "      <th>18</th>\n",
       "      <td>2021-12-18</td>\n",
       "      <td>NaN</td>\n",
       "      <td>12.902334</td>\n",
       "      <td>NaN</td>\n",
       "      <td>13.212161</td>\n",
       "      <td>-0.309827</td>\n",
       "    </tr>\n",
       "    <tr>\n",
       "      <th>19</th>\n",
       "      <td>2021-12-19</td>\n",
       "      <td>NaN</td>\n",
       "      <td>13.912679</td>\n",
       "      <td>NaN</td>\n",
       "      <td>14.195587</td>\n",
       "      <td>-0.282908</td>\n",
       "    </tr>\n",
       "    <tr>\n",
       "      <th>20</th>\n",
       "      <td>2021-12-20</td>\n",
       "      <td>NaN</td>\n",
       "      <td>14.960034</td>\n",
       "      <td>NaN</td>\n",
       "      <td>15.179010</td>\n",
       "      <td>-0.218977</td>\n",
       "    </tr>\n",
       "    <tr>\n",
       "      <th>21</th>\n",
       "      <td>2021-12-21</td>\n",
       "      <td>NaN</td>\n",
       "      <td>15.988920</td>\n",
       "      <td>NaN</td>\n",
       "      <td>16.162437</td>\n",
       "      <td>-0.173518</td>\n",
       "    </tr>\n",
       "    <tr>\n",
       "      <th>22</th>\n",
       "      <td>2021-12-22</td>\n",
       "      <td>NaN</td>\n",
       "      <td>16.572165</td>\n",
       "      <td>NaN</td>\n",
       "      <td>17.145863</td>\n",
       "      <td>-0.573697</td>\n",
       "    </tr>\n",
       "    <tr>\n",
       "      <th>23</th>\n",
       "      <td>2021-12-23</td>\n",
       "      <td>NaN</td>\n",
       "      <td>18.472122</td>\n",
       "      <td>NaN</td>\n",
       "      <td>18.129286</td>\n",
       "      <td>0.342836</td>\n",
       "    </tr>\n",
       "    <tr>\n",
       "      <th>24</th>\n",
       "      <td>2021-12-24</td>\n",
       "      <td>NaN</td>\n",
       "      <td>20.328802</td>\n",
       "      <td>NaN</td>\n",
       "      <td>19.112713</td>\n",
       "      <td>1.216091</td>\n",
       "    </tr>\n",
       "    <tr>\n",
       "      <th>25</th>\n",
       "      <td>2021-12-25</td>\n",
       "      <td>NaN</td>\n",
       "      <td>19.786308</td>\n",
       "      <td>NaN</td>\n",
       "      <td>20.096136</td>\n",
       "      <td>-0.309827</td>\n",
       "    </tr>\n",
       "    <tr>\n",
       "      <th>26</th>\n",
       "      <td>2021-12-26</td>\n",
       "      <td>NaN</td>\n",
       "      <td>20.796652</td>\n",
       "      <td>NaN</td>\n",
       "      <td>21.079559</td>\n",
       "      <td>-0.282908</td>\n",
       "    </tr>\n",
       "    <tr>\n",
       "      <th>27</th>\n",
       "      <td>2021-12-27</td>\n",
       "      <td>NaN</td>\n",
       "      <td>21.844007</td>\n",
       "      <td>NaN</td>\n",
       "      <td>22.062984</td>\n",
       "      <td>-0.218977</td>\n",
       "    </tr>\n",
       "    <tr>\n",
       "      <th>28</th>\n",
       "      <td>2021-12-28</td>\n",
       "      <td>NaN</td>\n",
       "      <td>22.872894</td>\n",
       "      <td>NaN</td>\n",
       "      <td>23.046412</td>\n",
       "      <td>-0.173518</td>\n",
       "    </tr>\n",
       "    <tr>\n",
       "      <th>29</th>\n",
       "      <td>2021-12-29</td>\n",
       "      <td>NaN</td>\n",
       "      <td>23.456137</td>\n",
       "      <td>NaN</td>\n",
       "      <td>24.029835</td>\n",
       "      <td>-0.573697</td>\n",
       "    </tr>\n",
       "    <tr>\n",
       "      <th>30</th>\n",
       "      <td>2021-12-30</td>\n",
       "      <td>NaN</td>\n",
       "      <td>25.356094</td>\n",
       "      <td>NaN</td>\n",
       "      <td>25.013258</td>\n",
       "      <td>0.342836</td>\n",
       "    </tr>\n",
       "  </tbody>\n",
       "</table>\n",
       "</div>"
      ],
      "text/plain": [
       "           ds          y      yhat1  residual1      trend  season_weekly\n",
       "0  2021-11-30   2.131497   1.909986  -0.221511   2.083503      -0.173518\n",
       "1  2021-12-01   2.759777   2.689477  -0.070299   3.263174      -0.573697\n",
       "2  2021-12-02   4.611789   4.440275  -0.171513   4.097439       0.342836\n",
       "3  2021-12-03   6.199271   5.439603  -0.759668   4.223513       1.216091\n",
       "4  2021-12-04   2.213465   3.254698   1.041232   3.564525      -0.309827\n",
       "5  2021-12-05   2.797328   4.042397   1.245069   4.325305      -0.282908\n",
       "6  2021-12-06   5.141374   3.945707  -1.195666   4.164684      -0.218977\n",
       "7  2021-12-07   3.607124   3.845386   0.238262   4.018904      -0.173518\n",
       "8  2021-12-08   4.187894   3.693205  -0.494689   4.266902      -0.573697\n",
       "9  2021-12-09   4.517845   5.055935   0.538090   4.713099       0.342836\n",
       "10 2021-12-10   6.776815   7.110286   0.333471   5.894196       1.216091\n",
       "11 2021-12-11   7.445129   6.857387  -0.587743   7.167213      -0.309827\n",
       "12 2021-12-12   8.615873   7.886275  -0.729598   8.169183      -0.282908\n",
       "13 2021-12-13   7.074236   8.147525   1.073289   8.366502      -0.218977\n",
       "14 2021-12-14   9.362683   9.104945  -0.257738   9.278463      -0.173518\n",
       "15 2021-12-15   9.594660   9.688190   0.093530  10.261887      -0.573697\n",
       "16 2021-12-16  12.049645  11.588148  -0.461497  11.245312       0.342836\n",
       "17 2021-12-17        NaN  13.444827        NaN  12.228737       1.216091\n",
       "18 2021-12-18        NaN  12.902334        NaN  13.212161      -0.309827\n",
       "19 2021-12-19        NaN  13.912679        NaN  14.195587      -0.282908\n",
       "20 2021-12-20        NaN  14.960034        NaN  15.179010      -0.218977\n",
       "21 2021-12-21        NaN  15.988920        NaN  16.162437      -0.173518\n",
       "22 2021-12-22        NaN  16.572165        NaN  17.145863      -0.573697\n",
       "23 2021-12-23        NaN  18.472122        NaN  18.129286       0.342836\n",
       "24 2021-12-24        NaN  20.328802        NaN  19.112713       1.216091\n",
       "25 2021-12-25        NaN  19.786308        NaN  20.096136      -0.309827\n",
       "26 2021-12-26        NaN  20.796652        NaN  21.079559      -0.282908\n",
       "27 2021-12-27        NaN  21.844007        NaN  22.062984      -0.218977\n",
       "28 2021-12-28        NaN  22.872894        NaN  23.046412      -0.173518\n",
       "29 2021-12-29        NaN  23.456137        NaN  24.029835      -0.573697\n",
       "30 2021-12-30        NaN  25.356094        NaN  25.013258       0.342836"
      ]
     },
     "execution_count": 16,
     "metadata": {},
     "output_type": "execute_result"
    }
   ],
   "source": [
    "m = NeuralProphet()\n",
    "metrics = m.fit(rev_us_in)\n",
    "forecast = m.predict(rev_us_in)\n",
    "forecast"
   ]
  },
  {
   "cell_type": "code",
   "execution_count": 17,
   "id": "13f548d2",
   "metadata": {},
   "outputs": [
    {
     "data": {
      "image/png": "[encoded data removed]",
      "text/plain": [
       "<Figure size 720x432 with 1 Axes>"
      ]
     },
     "metadata": {},
     "output_type": "display_data"
    }
   ],
   "source": [
    "fig_forecast = m.plot(forecast)\n",
    "#fig_components = m.plot_components(forecast)\n",
    "#fig_model = m.plot_parameters()\n"
   ]
  },
  {
   "cell_type": "markdown",
   "id": "d91bb953",
   "metadata": {},
   "source": [
    "# Some other insights from the data"
   ]
  },
  {
   "cell_type": "code",
   "execution_count": 20,
   "id": "94db137a",
   "metadata": {},
   "outputs": [
    {
     "data": {
      "text/plain": [
       "<AxesSubplot:title={'center':'revenue'}, xlabel='country_name', ylabel='revenue'>"
      ]
     },
     "execution_count": 20,
     "metadata": {},
     "output_type": "execute_result"
    },
    {
     "data": {
      "image/png": "[encoded data removed]",
      "text/plain": [
       "<Figure size 1008x504 with 4 Axes>"
      ]
     },
     "metadata": {
      "needs_background": "light"
     },
     "output_type": "display_data"
    }
   ],
   "source": [
    "figure, axes = plt.subplots(2, 2, sharex=True, figsize=(14,7))\n",
    "figure.suptitle('Country analysis')\n",
    "axes[0,0].set_title('Installs by country')\n",
    "axes[0,1].set_title('install by country by revenue data')\n",
    "axes[1,0].set_title('spend')\n",
    "axes[1,1].set_title('revenue')\n",
    "\n",
    "installs[\"country_name\"]=installs[\"country_id\"].map(country_name)\n",
    "spend[\"country_name\"]=spend[\"country_id\"].map(country_name)\n",
    "revenue[\"country_name\"]=revenue[\"country_id\"].map(country_name)\n",
    "sns.barplot(ax=axes[0, 0],x='country_name', y='user_install_id',data=installs.groupby(\"country_name\").count().reset_index() )\n",
    "sns.barplot(ax=axes[0, 1],x='country_name', y='user_install_id',data=revenue.groupby(\"country_name\").count().reset_index() )\n",
    "sns.barplot(ax=axes[1, 0],x='country_name', y='spend',data=spend.groupby(\"country_name\").sum().reset_index() )\n",
    "sns.barplot(ax=axes[1, 1],x='country_name', y='revenue',data=revenue.groupby(\"country_name\").sum().reset_index() )"
   ]
  },
  {
   "cell_type": "markdown",
   "id": "040a2c18",
   "metadata": {},
   "source": [
    "### Most expenditure  and revenue is done on US region.\n",
    "### Most Installation is high in  BR and RU also."
   ]
  },
  {
   "cell_type": "code",
   "execution_count": 19,
   "id": "34562b2e",
   "metadata": {},
   "outputs": [
    {
     "data": {
      "text/plain": [
       "(<AxesSubplot:title={'center':'Spend'}, xlabel='spend_date'>,\n",
       " <AxesSubplot:title={'center':'Revenue'}, xlabel='revenue_date'>,\n",
       " <AxesSubplot:title={'center':'installs'}, xlabel='install_date'>)"
      ]
     },
     "execution_count": 19,
     "metadata": {},
     "output_type": "execute_result"
    },
    {
     "data": {
      "image/png": "[encoded data removed]",
      "text/plain": [
       "<Figure size 1080x504 with 3 Axes>"
      ]
     },
     "metadata": {
      "needs_background": "light"
     },
     "output_type": "display_data"
    }
   ],
   "source": [
    "figure, axes = plt.subplots(1, 3, sharex=True, figsize=(15,7))\n",
    "figure.suptitle('Date analysis')\n",
    "axes[0].set_title('Spend')\n",
    "axes[1].set_title('installs')\n",
    "axes[2].set_title('Revenue')\n",
    "installs_df=installs.copy()\n",
    "revenue_df=revenue.copy()\n",
    "spend_df=spend.copy()\n",
    "installs_df=installs_df.drop(['client','year', 'month', 'day'], axis = 1)\n",
    "revenue_df=revenue_df.drop(['client','year', 'month', 'day','country_id','country'], axis = 1)\n",
    "spend_df=spend_df.drop(['client','year', 'month', 'day','country_id'], axis = 1)\n",
    "\n",
    "spend_df.groupby(\"spend_date\").sum().plot(ax=axes[0]),revenue_df.groupby(\"revenue_date\").sum().plot(ax=axes[2]),installs_df.groupby(\"install_date\").sum().plot(ax=axes[1])"
   ]
  },
  {
   "cell_type": "markdown",
   "id": "1780bc64",
   "metadata": {},
   "source": [
    "### As high amount of money is spent on 3th there is sharp rise in installs and revenue on 4th "
   ]
  },
  {
   "cell_type": "code",
   "execution_count": null,
   "id": "fbf238cd",
   "metadata": {},
   "outputs": [],
   "source": []
  }
 ],
 "metadata": {
  "kernelspec": {
   "display_name": "Python 3",
   "language": "python",
   "name": "python3"
  },
  "language_info": {
   "codemirror_mode": {
    "name": "ipython",
    "version": 3
   },
   "file_extension": ".py",
   "mimetype": "text/x-python",
   "name": "python",
   "nbconvert_exporter": "python",
   "pygments_lexer": "ipython3",
   "version": "3.6.5"
  }
 },
 "nbformat": 4,
 "nbformat_minor": 5
}
